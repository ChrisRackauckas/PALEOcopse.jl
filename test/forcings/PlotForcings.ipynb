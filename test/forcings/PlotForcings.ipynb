{
 "cells": [
  {
   "cell_type": "markdown",
   "metadata": {},
   "source": [
    "# Plot COPSE forcings"
   ]
  },
  {
   "cell_type": "code",
   "execution_count": null,
   "metadata": {},
   "outputs": [],
   "source": [
    "#Configure width of Jupyter notebook in browser\n",
    "#https://discourse.julialang.org/t/decrease-margins-of-ijulia-in-jupyter-notebook/6912\n",
    "# display(\"text/html\", \"<style>.container { width:100% !important; }</style>\")\n",
    "#Increase width used by Julia output eg DataFrame\n",
    "ENV[\"COLUMNS\"]=300\n",
    "ENV[\"LINES\"]=1000\n",
    "\n",
    "# activate the correct environment\n",
    "import Pkg\n",
    "# assuming we are in PALEOcopse/test/forcings, activate PALEOcopse environment\n",
    "Pkg.activate(joinpath(pwd(), \"../../\"))\n",
    "\n",
    "# activate the test environment (for additional packages, plots etc)\n",
    "using TestEnv\n",
    "TestEnv.activate()\n",
    "\n",
    "using Plots"
   ]
  },
  {
   "cell_type": "code",
   "execution_count": null,
   "metadata": {
    "scrolled": true
   },
   "outputs": [],
   "source": [
    "\n",
    "import PALEOboxes as PB\n",
    "import PALEOmodel\n",
    "import PALEOcopse\n",
    "\n",
    "using DataFrames\n",
    "\n",
    "# using StatsPlots\n",
    "\n"
   ]
  },
  {
   "cell_type": "code",
   "execution_count": null,
   "metadata": {},
   "outputs": [],
   "source": [
    "model = PB.create_model_from_config(joinpath(PALEOcopse.moduledir(), \"test/forcings/configforcings.yaml\"), \"model1\")"
   ]
  },
  {
   "cell_type": "code",
   "execution_count": null,
   "metadata": {},
   "outputs": [],
   "source": [
    "modeldata = PB.create_modeldata(model)\n",
    "PB.allocate_variables!(model, modeldata)\n",
    "\n",
    "PALEOmodel.set_default_solver_view!(model, modeldata)\n",
    "\n",
    "@PB.TestUtils.check_true PB.check_ready(model, modeldata)"
   ]
  },
  {
   "cell_type": "code",
   "execution_count": null,
   "metadata": {},
   "outputs": [],
   "source": [
    "# Get global Domain\n",
    "global_domain = PB.get_domain(model, \"global\")\n",
    "\n",
    "# Create a vector of all Variables in global Domain (these will include 'tforce' and the forcing variables)\n",
    "global_vars = PB.get_variables(global_domain)\n",
    "println(\"global Domain Variables: \", [v.name for v in global_vars])"
   ]
  },
  {
   "cell_type": "code",
   "execution_count": null,
   "metadata": {
    "scrolled": true
   },
   "outputs": [],
   "source": [
    "# Initialize model Reactions (will read forcing data from files etc)\n",
    "PB.initialize_reactiondata!(model, modeldata)\n",
    "\n",
    "PB.dispatch_setup(model, :setup, modeldata)\n",
    "\n",
    "dispatchlists = modeldata.dispatchlists_all\n"
   ]
  },
  {
   "cell_type": "code",
   "execution_count": null,
   "metadata": {},
   "outputs": [],
   "source": [
    "# check force_LIPs has expected default_lambda\n",
    "global_domain = PB.get_domain(model, \"global\")\n",
    "force_LIPs = PB.get_reaction(global_domain, \"force_LIPs\")\n",
    "\n",
    "@PB.TestUtils.check_true round(force_LIPs.default_lambda, sigdigits=6) == 1.11528e-08"
   ]
  },
  {
   "cell_type": "code",
   "execution_count": null,
   "metadata": {
    "scrolled": true
   },
   "outputs": [],
   "source": [
    "# Iterate through time and create DataFrame with all forcing variables\n",
    "\n",
    "df = DataFrame()\n",
    "for v in global_vars                   \n",
    "    insertcols!(df, DataFrames.ncol(df)+1, Symbol(v.name) => Vector{eltype(PB.get_data(v, modeldata)[])}())\n",
    "end\n",
    "\n",
    "for tforce in range(-700e6, 100e6, step=1e6)\n",
    "    PB.set_tforce!(modeldata.solver_view_all, tforce)\n",
    "    PB.do_deriv(dispatchlists)\n",
    "    # DataFrame needs  Dict of name_as_symbol => scalar value\n",
    "    scalar_data = Dict(Symbol(v.name) => PB.get_data(v, modeldata)[] for v in global_vars)\n",
    "    # Add row to DataFrame\n",
    "    push!(df, scalar_data)\n",
    "end\n"
   ]
  },
  {
   "cell_type": "code",
   "execution_count": null,
   "metadata": {},
   "outputs": [],
   "source": [
    "# Show complete table\n",
    "\n",
    "df"
   ]
  },
  {
   "cell_type": "code",
   "execution_count": null,
   "metadata": {
    "scrolled": false
   },
   "outputs": [],
   "source": [
    "# Plot normalized forcings\n",
    "fieldnames = [\"DEGASS_haq_copsereloaded\", \"DEGASS_bergman2004\"]\n",
    "\n",
    "# plot requires a Matrix with data for lines in columns, and a 1xn Matrix for fieldnames\n",
    "# plotdata = hcat([df[!, fn] for fn in fieldnames]...)\n",
    "plotdata = Matrix(df[!, fieldnames])\n",
    "labeldata = hcat(fieldnames...)  # convert Vector{String} to Array{String,2}\n",
    "\n",
    "plot(df.tforce, plotdata, labels=labeldata)"
   ]
  },
  {
   "cell_type": "code",
   "execution_count": null,
   "metadata": {},
   "outputs": [],
   "source": [
    "# Show table of values\n",
    "df[!, [\"tforce\", fieldnames...]]"
   ]
  },
  {
   "cell_type": "code",
   "execution_count": null,
   "metadata": {
    "scrolled": false
   },
   "outputs": [],
   "source": [
    "# Plot normalized forcings\n",
    "fieldnames = [\"UPLIFT_berner_fr\", \"UPLIFT_bergman2004\"]\n",
    "\n",
    "# plot requires a Matrix with data for lines in columns, and a 1xn Matrix for fieldnames\n",
    "# plotdata = hcat([df[!, fn] for fn in fieldnames]...)\n",
    "plotdata = Matrix(df[!, fieldnames])\n",
    "labeldata = hcat(fieldnames...)  # convert Vector{String} to Array{String,2}\n",
    "\n",
    "plot(df.tforce, plotdata, labels=labeldata)"
   ]
  },
  {
   "cell_type": "code",
   "execution_count": null,
   "metadata": {},
   "outputs": [],
   "source": [
    "# Show table of values\n",
    "df[!, [\"tforce\", fieldnames...]]"
   ]
  },
  {
   "cell_type": "code",
   "execution_count": null,
   "metadata": {
    "scrolled": false
   },
   "outputs": [],
   "source": [
    "# Plot normalized forcings\n",
    "fieldnames = [\"EVO\", \"W\",\"Bforcing\", \"CPland_relative\"]\n",
    "\n",
    "# plot requires a Matrix with data for lines in columns, and a 1xn Matrix for fieldnames\n",
    "# plotdata = hcat([df[!, fn] for fn in fieldnames]...)\n",
    "plotdata = Matrix(df[!, fieldnames])\n",
    "labeldata = hcat(fieldnames...)  # convert Vector{String} to Array{String,2}\n",
    "\n",
    "plot(df.tforce, plotdata, labels=labeldata)"
   ]
  },
  {
   "cell_type": "code",
   "execution_count": null,
   "metadata": {},
   "outputs": [],
   "source": [
    "# Show table of values\n",
    "df[!, [\"tforce\", fieldnames...]]"
   ]
  },
  {
   "cell_type": "code",
   "execution_count": null,
   "metadata": {
    "scrolled": false
   },
   "outputs": [],
   "source": [
    "# Plot normalized forcings\n",
    "fieldnames = [\"CAL_NORM\", \"ORGEVAP_AREA\", \"GRAN\", \"COAL\"]\n",
    "\n",
    "# plot requires a Matrix with data for lines in columns, and a 1xn Matrix for fieldnames\n",
    "# plotdata = hcat([df[!, fn] for fn in fieldnames]...)\n",
    "plotdata = Matrix(df[!, fieldnames])\n",
    "labeldata = hcat(fieldnames...)  # convert Vector{String} to Array{String,2}\n",
    "\n",
    "plot(df.tforce, plotdata, labels=labeldata)"
   ]
  },
  {
   "cell_type": "code",
   "execution_count": null,
   "metadata": {},
   "outputs": [],
   "source": [
    "# Show table of values\n",
    "df[!, [\"tforce\", fieldnames...]]"
   ]
  },
  {
   "cell_type": "code",
   "execution_count": null,
   "metadata": {
    "scrolled": false
   },
   "outputs": [],
   "source": [
    "# Plot normalized forcings\n",
    "fieldnames = [\"CFB_area\"]\n",
    "\n",
    "# plot requires a Matrix with data for lines in columns, and a 1xn Matrix for fieldnames\n",
    "# plotdata = hcat([df[!, fn] for fn in fieldnames]...)\n",
    "plotdata = Matrix(df[!, fieldnames])\n",
    "labeldata = hcat(fieldnames...)  # convert Vector{String} to Array{String,2}\n",
    "\n",
    "plot(df.tforce, plotdata, labels=labeldata)"
   ]
  },
  {
   "cell_type": "code",
   "execution_count": null,
   "metadata": {},
   "outputs": [],
   "source": [
    "# Show table of values\n",
    "df[!, [\"tforce\", fieldnames...]]"
   ]
  },
  {
   "cell_type": "code",
   "execution_count": null,
   "metadata": {},
   "outputs": [],
   "source": []
  },
  {
   "cell_type": "code",
   "execution_count": null,
   "metadata": {},
   "outputs": [],
   "source": []
  }
 ],
 "metadata": {
  "kernelspec": {
   "display_name": "Julia 1.7.3",
   "language": "julia",
   "name": "julia-1.7"
  },
  "language_info": {
   "file_extension": ".jl",
   "mimetype": "application/julia",
   "name": "julia",
   "version": "1.7.3"
  }
 },
 "nbformat": 4,
 "nbformat_minor": 4
}
